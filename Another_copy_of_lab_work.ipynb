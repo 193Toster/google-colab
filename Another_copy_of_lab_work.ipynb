{
  "cells": [
    {
      "cell_type": "markdown",
      "metadata": {
        "id": "view-in-github",
        "colab_type": "text"
      },
      "source": [
        "<a href=\"https://colab.research.google.com/github/193Toster/google-colab/blob/main/Another_copy_of_lab_work.ipynb\" target=\"_parent\"><img src=\"https://colab.research.google.com/assets/colab-badge.svg\" alt=\"Open In Colab\"/></a>"
      ]
    },
    {
      "cell_type": "markdown",
      "metadata": {
        "id": "rloJD2luQnuQ"
      },
      "source": [
        "# Лабораторная работа"
      ]
    },
    {
      "cell_type": "markdown",
      "metadata": {
        "id": "xIZ02xiML9p_"
      },
      "source": [
        "Баллы за секции:\n",
        "- *Задание 1* - 10 баллов\n",
        "- *Задание 2* - 20 баллов\n",
        "- *Задание 3* - 30 баллов\n",
        "- **Итого** - 60 баллов\n",
        "\n",
        "Оценка за лабу $ = \\frac{score}{6}$"
      ]
    },
    {
      "cell_type": "markdown",
      "metadata": {
        "id": "OEDe7x8YRID0"
      },
      "source": [
        "## Внимание! Attention! Achtung!"
      ]
    },
    {
      "cell_type": "markdown",
      "metadata": {
        "id": "ZEmKA-7NR1Y9"
      },
      "source": [
        "**Данная лабораторная работа является блокирующей**, т.е. если лабораторная работа не выполнена, то оценка за курс - неуд.\n",
        "\n",
        "Лабораторная работа считается выполненной, если **за каждое из заданий получено не менее 2 баллов**."
      ]
    },
    {
      "cell_type": "markdown",
      "metadata": {
        "id": "N1ZbZ8dkR5q_"
      },
      "source": [
        "## Формат сдачи лабораторной работы"
      ]
    },
    {
      "cell_type": "markdown",
      "metadata": {
        "id": "tEwx7LLQR-h8"
      },
      "source": [
        "Данная лабораторная работа сдается так же, как и проект - заполняете данный ноутбук, отправляете его через GitHub с указанием проверяющего."
      ]
    },
    {
      "cell_type": "markdown",
      "metadata": {
        "id": "qKwaNCJKj7b8"
      },
      "source": [
        "**Ассистенты не будут запускать ячейки кода, а смотреть на выведенный результат и код. Если ячейка кода не запущена - балл не ставится, даже при правильно написанном коде.**\n",
        "\n",
        "***(Комментарии что курс по Python легче чем по C++ учтены)***"
      ]
    },
    {
      "cell_type": "markdown",
      "metadata": {
        "id": "hlUYK7MDRGye"
      },
      "source": [
        ">**Примечание**\n",
        ">\n",
        ">Данные задания вдохновлены предметом \"Введение в анализ данных\" 2 курса, по итогу которого идёт отбор на DS-поток. Если вы видите себя в смежных областях, советуем выполнить данную лабораторку по максимуму."
      ]
    },
    {
      "cell_type": "code",
      "execution_count": 2,
      "metadata": {
        "id": "1qzEqvohoZfB"
      },
      "outputs": [],
      "source": [
        "# Всё необходимое для выполнения данной лабораторной работы!\n",
        "import requests\n",
        "from time import sleep\n",
        "\n",
        "import numpy as np\n",
        "import pandas as pd\n",
        "import matplotlib.pyplot as plt\n",
        "import seaborn as sns"
      ]
    },
    {
      "cell_type": "markdown",
      "metadata": {
        "id": "rB_FYHU2k8w-"
      },
      "source": [
        "## Задание 1. Парсинг - 10 баллов"
      ]
    },
    {
      "cell_type": "markdown",
      "metadata": {
        "id": "F0gr5cjaoQJy"
      },
      "source": [
        "В этом задании Вам предстоит работать с API сайта <a target=\"_blank\" href=\"hh.ru\">hh.ru</a>. Документация доступна по <a target=\"_blank\" href=\"https://github.com/hhru/api/blob/master/docs/vacancies.md#search\">ссылке</a>."
      ]
    },
    {
      "cell_type": "markdown",
      "metadata": {
        "id": "v8iCQYk7TNvK"
      },
      "source": [
        "<b><font color=\"red\">Внимание!</font> При работе с API не забывайте делать паузы между запросами, иначе вас забанят. Просрочка дедлайна по этой причине не принимается!</b>"
      ]
    },
    {
      "cell_type": "markdown",
      "metadata": {
        "id": "-HAm80rqRqAZ"
      },
      "source": [
        "**Задача:**\n",
        "1. выбрать 5 интересующих вас профессий (не смежных, т.е. Аналатик и Data Engineer не считается корректным)\n",
        "2. затем получить доступные по данным профессиям вакансии в Москве и выделить их физические координаты\n",
        "3. нанести полученные координаты на карту местоположения компаний"
      ]
    },
    {
      "cell_type": "markdown",
      "metadata": {
        "id": "H0GhQJvipXYj"
      },
      "source": [
        "*Пример запроса для профессии:*"
      ]
    },
    {
      "cell_type": "code",
      "execution_count": null,
      "metadata": {
        "id": "aZLGoS_DpsXI"
      },
      "outputs": [],
      "source": [
        "URL = 'https://api.hh.ru/vacancies'\n",
        "\n",
        "params = {\n",
        "    'text': \"DevOps\",\n",
        "    'area': 1,\n",
        "    'page': 0,\n",
        "    'per_page': 20\n",
        "}\n",
        "\n",
        "data = requests.get(URL, params).json()"
      ]
    },
    {
      "cell_type": "markdown",
      "metadata": {
        "id": "yHQtIBRQp91_"
      },
      "source": [
        "Если Ваш запрос прошел успешно, то вы получите следующие ключи (значения данных ключей вы найдете по ссылке на документацию):"
      ]
    },
    {
      "cell_type": "code",
      "execution_count": null,
      "metadata": {
        "colab": {
          "base_uri": "https://localhost:8080/"
        },
        "id": "DW6mxzggpvKw",
        "outputId": "2f02e770-f95c-41a5-9054-139e24a06e07"
      },
      "outputs": [
        {
          "name": "stdout",
          "output_type": "stream",
          "text": [
            "dict_keys(['items', 'found', 'pages', 'page', 'per_page', 'clusters', 'arguments', 'fixes', 'suggests', 'alternate_url'])\n"
          ]
        },
        {
          "data": {
            "text/plain": [
              "20"
            ]
          },
          "execution_count": 86,
          "metadata": {},
          "output_type": "execute_result"
        }
      ],
      "source": [
        "print(data.keys())\n",
        "len(data['items'])"
      ]
    },
    {
      "cell_type": "markdown",
      "metadata": {
        "id": "O-qAwsmrTAvQ"
      },
      "source": [
        ">**Примечание**\n",
        ">\n",
        ">В `data['pages']` будет хранится количество найденных страниц вакансий - для корректного сбора данных Вам нужно пробежать по **КАЖДОЙ** странице и сделать соотвествующие запросы."
      ]
    },
    {
      "cell_type": "markdown",
      "metadata": {
        "id": "OEPOQVYxsMyN"
      },
      "source": [
        ">**Совет**\n",
        ">\n",
        ">Посмотрите что хранится в `items`!"
      ]
    },
    {
      "cell_type": "markdown",
      "metadata": {
        "id": "JWvkFrh9qhkj"
      },
      "source": [
        "(1 балл) Выберете для нас 5 наиболее интересных специальностей и получите по ним имеющиеся вакансии:"
      ]
    },
    {
      "cell_type": "code",
      "execution_count": 37,
      "metadata": {
        "id": "_Nm-vyiBqugq"
      },
      "outputs": [],
      "source": [
        "from time import sleep\n",
        "\n",
        "spec = ['финансист', 'нефтяник', 'космонавт', 'авиатор', 'курьер']\n",
        "vacs = []\n",
        "for sp in spec:\n",
        "  vacs += [[]]\n",
        "  URL = 'https://api.hh.ru/vacancies'\n",
        "\n",
        "  params = {\n",
        "    'text': sp,\n",
        "    'area': 1,\n",
        "    'page': 0,\n",
        "    'per_page': 20\n",
        "  }\n",
        "  sleep(.017)\n",
        "  pages = requests.get(URL, params).json()['pages']\n",
        "  for page in range(pages):\n",
        "      URL = 'https://api.hh.ru/vacancies'\n",
        "\n",
        "      params = {\n",
        "        'text': sp,\n",
        "        'area': 1,\n",
        "        'page': 0,\n",
        "        'per_page': 20\n",
        "      }\n",
        "      sleep(.01)\n",
        "      items = requests.get(URL, params).json()\n",
        "      if 'items' not in items:\n",
        "        break\n",
        "      vacs[-1] += items['items']\n"
      ]
    },
    {
      "cell_type": "markdown",
      "metadata": {
        "id": "g0bdgyNWquuY"
      },
      "source": [
        "(1 балл) Посчитайте сколько всего найдено вакансий:"
      ]
    },
    {
      "cell_type": "code",
      "execution_count": 38,
      "metadata": {
        "id": "lxyXtIs6q5cc",
        "colab": {
          "base_uri": "https://localhost:8080/"
        },
        "outputId": "f0e6f113-0dc3-4f80-b204-2f23a83f1321"
      },
      "outputs": [
        {
          "output_type": "stream",
          "name": "stdout",
          "text": [
            "2300\n"
          ]
        }
      ],
      "source": [
        "ans = 0\n",
        "for i in vacs:\n",
        "  ans += len(i)\n",
        "print(ans)"
      ]
    },
    {
      "cell_type": "markdown",
      "metadata": {
        "id": "wQeULnNyq5wk"
      },
      "source": [
        "(1 балл) Создайте структуру данных, которая будет хранить в себе имя компании и ее координаты (широта и долгота):"
      ]
    },
    {
      "cell_type": "code",
      "execution_count": null,
      "metadata": {
        "id": "aR501yltVdLm"
      },
      "outputs": [],
      "source": [
        "class Company:\n",
        "    # your code here"
      ]
    },
    {
      "cell_type": "markdown",
      "metadata": {
        "id": "ccIi3wIvVkG0"
      },
      "source": [
        "(1 балл) Создайте экземпляр этой структуры данных для каждой компании, которая выставила вакансию:"
      ]
    },
    {
      "cell_type": "code",
      "execution_count": null,
      "metadata": {
        "id": "tR6mYW7jtcCQ"
      },
      "outputs": [],
      "source": [
        "# your code here"
      ]
    },
    {
      "cell_type": "markdown",
      "metadata": {
        "id": "SyBpNd0vtcNu"
      },
      "source": [
        "(1 балл) Найдите количество вакансий, у которых заданы координаты (значения данных может быть пустым):"
      ]
    },
    {
      "cell_type": "code",
      "execution_count": null,
      "metadata": {
        "id": "lVgNCVALt2qJ"
      },
      "outputs": [],
      "source": [
        "# your code here"
      ]
    },
    {
      "cell_type": "markdown",
      "metadata": {
        "id": "aWNXrM-cu5Vi"
      },
      "source": [
        "(1 балл) Отберите вакансии, которые расположены в пределах МКАД (можно грубо):"
      ]
    },
    {
      "cell_type": "code",
      "execution_count": null,
      "metadata": {
        "id": "01g9wVEyyn-J"
      },
      "outputs": [],
      "source": [
        "# your code here"
      ]
    },
    {
      "cell_type": "markdown",
      "metadata": {
        "id": "4LCb9IL_bgB_"
      },
      "source": [
        "(1 балл) Постройте график в координатах \"широта-долгота\" для отображения вакансий внутри МКАД (не забывайте прописать прозрачность, чтобы увидеть скопления):"
      ]
    },
    {
      "cell_type": "code",
      "execution_count": null,
      "metadata": {
        "id": "6ogiXDvKcDV8"
      },
      "outputs": [],
      "source": [
        "# your code here"
      ]
    },
    {
      "cell_type": "markdown",
      "metadata": {
        "id": "YvS8b7eqt214"
      },
      "source": [
        "(1 балл) Нанесите все точки вакансий на карту (для этого вам поможет данная <a target=\"_blank\" href=\"https://plotly.com/python/mapbox-layers/\">документации</a>, не забудьте про прозрачность и центрирование по Москве):"
      ]
    },
    {
      "cell_type": "code",
      "execution_count": null,
      "metadata": {
        "id": "1ceHEBdAys8o"
      },
      "outputs": [],
      "source": [
        "# your code here"
      ]
    },
    {
      "cell_type": "markdown",
      "metadata": {
        "id": "u-p3Llc361PN"
      },
      "source": [
        "(2 балла) **Сделайте выводы о проделанной работе:**"
      ]
    },
    {
      "cell_type": "markdown",
      "metadata": {
        "id": "G1c3d-qALobz"
      },
      "source": [
        ">*Подсказки для маленьких: Что вы можете сказать про районы Москвы? Что вы можете сказать про зарплаты? Что вы можете сказать про спрос?*"
      ]
    },
    {
      "cell_type": "markdown",
      "metadata": {
        "id": "gkPpbtBuVqwc"
      },
      "source": [
        "Ваши выводы здесь :)"
      ]
    },
    {
      "cell_type": "markdown",
      "metadata": {
        "id": "wVcCTF_Zz58q"
      },
      "source": [
        "## Задание 2. Анализ данных - 20 баллов"
      ]
    },
    {
      "cell_type": "markdown",
      "metadata": {
        "id": "lii5YFuucxR2"
      },
      "source": [
        "Вам предстоит проанализировать датасет, содержащий информацию об бриллианта, их стоимости и остальных характеристиках."
      ]
    },
    {
      "cell_type": "markdown",
      "metadata": {
        "id": "CvEO3-NI0Gez"
      },
      "source": [
        "\n",
        "\n",
        "Поясним значения хранящиеся в колонках:\n",
        "*   `cut` - огранка бриллианта (относится к одной из примерно 10 наиболее распространенных)\n",
        "*   `color` - цвет бриллианта, прозрачные бриллианты имеют градацию `D-Z`, \"более высокие\" буквы - более желтоватые, но часто имеют лучшие значения, поскольку цвет трудно определить один раз в кольце\n",
        "*   `clarity` - чистота бриллианта, наличие включений (внутренних дефектов), чем меньше и мельче, тем лучше\n",
        "*   `carat_weight` - масса бриллианта (слабо связана с размером бриллианта, т.к. огранка и качество огранки, как правило, играют большую роль)\n",
        "*   `cut_quality` - качество ограники по системе оценки GIA Cut\n",
        "*   `lab` - лаборатория оценивания\n",
        "*   `meas_length` - длина бриллианта\n",
        "*   `meas_width` - ширина бриллианта\n",
        "*   `meas_depth` - глубина бриллианта\n",
        "*   `total_sales_price` - цена бриллианта в долларах.\n",
        "*    **и прочие колонки**"
      ]
    },
    {
      "cell_type": "markdown",
      "metadata": {
        "id": "7mK1QntN6ZXh"
      },
      "source": [
        "Скачаем данные:"
      ]
    },
    {
      "cell_type": "code",
      "execution_count": 3,
      "metadata": {
        "colab": {
          "base_uri": "https://localhost:8080/"
        },
        "id": "LnCK3gCoebjw",
        "outputId": "19662e34-7858-478e-c2c3-6e4963601cfb"
      },
      "outputs": [
        {
          "output_type": "stream",
          "name": "stdout",
          "text": [
            "Downloading...\n",
            "From: https://drive.google.com/uc?id=10OJ30qlkE-7zK4JuVTDMY3U4nRB4tu_8\n",
            "To: /content/diamonds.csv\n",
            "100% 35.4M/35.4M [00:00<00:00, 76.2MB/s]\n"
          ]
        }
      ],
      "source": [
        "!gdown 10OJ30qlkE-7zK4JuVTDMY3U4nRB4tu_8"
      ]
    },
    {
      "cell_type": "markdown",
      "metadata": {
        "id": "wfSqVYoIfi3-"
      },
      "source": [
        "Создадим DataFrame:"
      ]
    },
    {
      "cell_type": "code",
      "execution_count": 41,
      "metadata": {
        "id": "cDgRJzRp6Ow4"
      },
      "outputs": [],
      "source": [
        "diamonds = pd.read_csv(\"diamonds.csv\")"
      ]
    },
    {
      "cell_type": "markdown",
      "metadata": {
        "id": "vlw_3lXG6bhv"
      },
      "source": [
        "(0.5 балла) Выведете первые 5 строк датасета:"
      ]
    },
    {
      "cell_type": "code",
      "execution_count": 5,
      "metadata": {
        "colab": {
          "base_uri": "https://localhost:8080/",
          "height": 360
        },
        "id": "gHA-AnSE6fth",
        "outputId": "20e44222-22b4-497a-bb8d-01d20cb3a8c4"
      },
      "outputs": [
        {
          "output_type": "execute_result",
          "data": {
            "text/plain": [
              "   Unnamed: 0    cut color clarity  carat_weight cut_quality  lab   symmetry  \\\n",
              "0           0  Round     E    VVS2          0.09   Excellent  IGI  Very Good   \n",
              "1           1  Round     E    VVS2          0.09   Very Good  IGI  Very Good   \n",
              "2           2  Round     E    VVS2          0.09   Excellent  IGI  Very Good   \n",
              "3           3  Round     E    VVS2          0.09   Excellent  IGI  Very Good   \n",
              "4           4  Round     E    VVS2          0.09   Very Good  IGI  Very Good   \n",
              "\n",
              "      polish eye_clean  ... meas_depth girdle_min  girdle_max  fluor_color  \\\n",
              "0  Very Good   unknown  ...       1.79          M           M      unknown   \n",
              "1  Very Good   unknown  ...       1.78        STK         STK      unknown   \n",
              "2  Very Good   unknown  ...       1.77         TN           M      unknown   \n",
              "3  Very Good   unknown  ...       1.78          M         STK      unknown   \n",
              "4  Excellent   unknown  ...       1.82        STK         STK      unknown   \n",
              "\n",
              "   fluor_intensity  fancy_color_dominant_color  fancy_color_secondary_color  \\\n",
              "0              NaN                     unknown                      unknown   \n",
              "1              NaN                     unknown                      unknown   \n",
              "2              NaN                     unknown                      unknown   \n",
              "3              NaN                     unknown                      unknown   \n",
              "4              NaN                     unknown                      unknown   \n",
              "\n",
              "  fancy_color_overtone fancy_color_intensity total_sales_price  \n",
              "0              unknown               unknown               200  \n",
              "1              unknown               unknown               200  \n",
              "2              unknown               unknown               200  \n",
              "3              unknown               unknown               200  \n",
              "4              unknown               unknown               200  \n",
              "\n",
              "[5 rows x 26 columns]"
            ],
            "text/html": [
              "\n",
              "  <div id=\"df-a81a5bc7-dd6a-447d-879c-55f40ddd3f51\" class=\"colab-df-container\">\n",
              "    <div>\n",
              "<style scoped>\n",
              "    .dataframe tbody tr th:only-of-type {\n",
              "        vertical-align: middle;\n",
              "    }\n",
              "\n",
              "    .dataframe tbody tr th {\n",
              "        vertical-align: top;\n",
              "    }\n",
              "\n",
              "    .dataframe thead th {\n",
              "        text-align: right;\n",
              "    }\n",
              "</style>\n",
              "<table border=\"1\" class=\"dataframe\">\n",
              "  <thead>\n",
              "    <tr style=\"text-align: right;\">\n",
              "      <th></th>\n",
              "      <th>Unnamed: 0</th>\n",
              "      <th>cut</th>\n",
              "      <th>color</th>\n",
              "      <th>clarity</th>\n",
              "      <th>carat_weight</th>\n",
              "      <th>cut_quality</th>\n",
              "      <th>lab</th>\n",
              "      <th>symmetry</th>\n",
              "      <th>polish</th>\n",
              "      <th>eye_clean</th>\n",
              "      <th>...</th>\n",
              "      <th>meas_depth</th>\n",
              "      <th>girdle_min</th>\n",
              "      <th>girdle_max</th>\n",
              "      <th>fluor_color</th>\n",
              "      <th>fluor_intensity</th>\n",
              "      <th>fancy_color_dominant_color</th>\n",
              "      <th>fancy_color_secondary_color</th>\n",
              "      <th>fancy_color_overtone</th>\n",
              "      <th>fancy_color_intensity</th>\n",
              "      <th>total_sales_price</th>\n",
              "    </tr>\n",
              "  </thead>\n",
              "  <tbody>\n",
              "    <tr>\n",
              "      <th>0</th>\n",
              "      <td>0</td>\n",
              "      <td>Round</td>\n",
              "      <td>E</td>\n",
              "      <td>VVS2</td>\n",
              "      <td>0.09</td>\n",
              "      <td>Excellent</td>\n",
              "      <td>IGI</td>\n",
              "      <td>Very Good</td>\n",
              "      <td>Very Good</td>\n",
              "      <td>unknown</td>\n",
              "      <td>...</td>\n",
              "      <td>1.79</td>\n",
              "      <td>M</td>\n",
              "      <td>M</td>\n",
              "      <td>unknown</td>\n",
              "      <td>NaN</td>\n",
              "      <td>unknown</td>\n",
              "      <td>unknown</td>\n",
              "      <td>unknown</td>\n",
              "      <td>unknown</td>\n",
              "      <td>200</td>\n",
              "    </tr>\n",
              "    <tr>\n",
              "      <th>1</th>\n",
              "      <td>1</td>\n",
              "      <td>Round</td>\n",
              "      <td>E</td>\n",
              "      <td>VVS2</td>\n",
              "      <td>0.09</td>\n",
              "      <td>Very Good</td>\n",
              "      <td>IGI</td>\n",
              "      <td>Very Good</td>\n",
              "      <td>Very Good</td>\n",
              "      <td>unknown</td>\n",
              "      <td>...</td>\n",
              "      <td>1.78</td>\n",
              "      <td>STK</td>\n",
              "      <td>STK</td>\n",
              "      <td>unknown</td>\n",
              "      <td>NaN</td>\n",
              "      <td>unknown</td>\n",
              "      <td>unknown</td>\n",
              "      <td>unknown</td>\n",
              "      <td>unknown</td>\n",
              "      <td>200</td>\n",
              "    </tr>\n",
              "    <tr>\n",
              "      <th>2</th>\n",
              "      <td>2</td>\n",
              "      <td>Round</td>\n",
              "      <td>E</td>\n",
              "      <td>VVS2</td>\n",
              "      <td>0.09</td>\n",
              "      <td>Excellent</td>\n",
              "      <td>IGI</td>\n",
              "      <td>Very Good</td>\n",
              "      <td>Very Good</td>\n",
              "      <td>unknown</td>\n",
              "      <td>...</td>\n",
              "      <td>1.77</td>\n",
              "      <td>TN</td>\n",
              "      <td>M</td>\n",
              "      <td>unknown</td>\n",
              "      <td>NaN</td>\n",
              "      <td>unknown</td>\n",
              "      <td>unknown</td>\n",
              "      <td>unknown</td>\n",
              "      <td>unknown</td>\n",
              "      <td>200</td>\n",
              "    </tr>\n",
              "    <tr>\n",
              "      <th>3</th>\n",
              "      <td>3</td>\n",
              "      <td>Round</td>\n",
              "      <td>E</td>\n",
              "      <td>VVS2</td>\n",
              "      <td>0.09</td>\n",
              "      <td>Excellent</td>\n",
              "      <td>IGI</td>\n",
              "      <td>Very Good</td>\n",
              "      <td>Very Good</td>\n",
              "      <td>unknown</td>\n",
              "      <td>...</td>\n",
              "      <td>1.78</td>\n",
              "      <td>M</td>\n",
              "      <td>STK</td>\n",
              "      <td>unknown</td>\n",
              "      <td>NaN</td>\n",
              "      <td>unknown</td>\n",
              "      <td>unknown</td>\n",
              "      <td>unknown</td>\n",
              "      <td>unknown</td>\n",
              "      <td>200</td>\n",
              "    </tr>\n",
              "    <tr>\n",
              "      <th>4</th>\n",
              "      <td>4</td>\n",
              "      <td>Round</td>\n",
              "      <td>E</td>\n",
              "      <td>VVS2</td>\n",
              "      <td>0.09</td>\n",
              "      <td>Very Good</td>\n",
              "      <td>IGI</td>\n",
              "      <td>Very Good</td>\n",
              "      <td>Excellent</td>\n",
              "      <td>unknown</td>\n",
              "      <td>...</td>\n",
              "      <td>1.82</td>\n",
              "      <td>STK</td>\n",
              "      <td>STK</td>\n",
              "      <td>unknown</td>\n",
              "      <td>NaN</td>\n",
              "      <td>unknown</td>\n",
              "      <td>unknown</td>\n",
              "      <td>unknown</td>\n",
              "      <td>unknown</td>\n",
              "      <td>200</td>\n",
              "    </tr>\n",
              "  </tbody>\n",
              "</table>\n",
              "<p>5 rows × 26 columns</p>\n",
              "</div>\n",
              "    <div class=\"colab-df-buttons\">\n",
              "\n",
              "  <div class=\"colab-df-container\">\n",
              "    <button class=\"colab-df-convert\" onclick=\"convertToInteractive('df-a81a5bc7-dd6a-447d-879c-55f40ddd3f51')\"\n",
              "            title=\"Convert this dataframe to an interactive table.\"\n",
              "            style=\"display:none;\">\n",
              "\n",
              "  <svg xmlns=\"http://www.w3.org/2000/svg\" height=\"24px\" viewBox=\"0 -960 960 960\">\n",
              "    <path d=\"M120-120v-720h720v720H120Zm60-500h600v-160H180v160Zm220 220h160v-160H400v160Zm0 220h160v-160H400v160ZM180-400h160v-160H180v160Zm440 0h160v-160H620v160ZM180-180h160v-160H180v160Zm440 0h160v-160H620v160Z\"/>\n",
              "  </svg>\n",
              "    </button>\n",
              "\n",
              "  <style>\n",
              "    .colab-df-container {\n",
              "      display:flex;\n",
              "      gap: 12px;\n",
              "    }\n",
              "\n",
              "    .colab-df-convert {\n",
              "      background-color: #E8F0FE;\n",
              "      border: none;\n",
              "      border-radius: 50%;\n",
              "      cursor: pointer;\n",
              "      display: none;\n",
              "      fill: #1967D2;\n",
              "      height: 32px;\n",
              "      padding: 0 0 0 0;\n",
              "      width: 32px;\n",
              "    }\n",
              "\n",
              "    .colab-df-convert:hover {\n",
              "      background-color: #E2EBFA;\n",
              "      box-shadow: 0px 1px 2px rgba(60, 64, 67, 0.3), 0px 1px 3px 1px rgba(60, 64, 67, 0.15);\n",
              "      fill: #174EA6;\n",
              "    }\n",
              "\n",
              "    .colab-df-buttons div {\n",
              "      margin-bottom: 4px;\n",
              "    }\n",
              "\n",
              "    [theme=dark] .colab-df-convert {\n",
              "      background-color: #3B4455;\n",
              "      fill: #D2E3FC;\n",
              "    }\n",
              "\n",
              "    [theme=dark] .colab-df-convert:hover {\n",
              "      background-color: #434B5C;\n",
              "      box-shadow: 0px 1px 3px 1px rgba(0, 0, 0, 0.15);\n",
              "      filter: drop-shadow(0px 1px 2px rgba(0, 0, 0, 0.3));\n",
              "      fill: #FFFFFF;\n",
              "    }\n",
              "  </style>\n",
              "\n",
              "    <script>\n",
              "      const buttonEl =\n",
              "        document.querySelector('#df-a81a5bc7-dd6a-447d-879c-55f40ddd3f51 button.colab-df-convert');\n",
              "      buttonEl.style.display =\n",
              "        google.colab.kernel.accessAllowed ? 'block' : 'none';\n",
              "\n",
              "      async function convertToInteractive(key) {\n",
              "        const element = document.querySelector('#df-a81a5bc7-dd6a-447d-879c-55f40ddd3f51');\n",
              "        const dataTable =\n",
              "          await google.colab.kernel.invokeFunction('convertToInteractive',\n",
              "                                                    [key], {});\n",
              "        if (!dataTable) return;\n",
              "\n",
              "        const docLinkHtml = 'Like what you see? Visit the ' +\n",
              "          '<a target=\"_blank\" href=https://colab.research.google.com/notebooks/data_table.ipynb>data table notebook</a>'\n",
              "          + ' to learn more about interactive tables.';\n",
              "        element.innerHTML = '';\n",
              "        dataTable['output_type'] = 'display_data';\n",
              "        await google.colab.output.renderOutput(dataTable, element);\n",
              "        const docLink = document.createElement('div');\n",
              "        docLink.innerHTML = docLinkHtml;\n",
              "        element.appendChild(docLink);\n",
              "      }\n",
              "    </script>\n",
              "  </div>\n",
              "\n",
              "\n",
              "<div id=\"df-2d227bbd-93be-4dec-afd4-cc5f743b1278\">\n",
              "  <button class=\"colab-df-quickchart\" onclick=\"quickchart('df-2d227bbd-93be-4dec-afd4-cc5f743b1278')\"\n",
              "            title=\"Suggest charts\"\n",
              "            style=\"display:none;\">\n",
              "\n",
              "<svg xmlns=\"http://www.w3.org/2000/svg\" height=\"24px\"viewBox=\"0 0 24 24\"\n",
              "     width=\"24px\">\n",
              "    <g>\n",
              "        <path d=\"M19 3H5c-1.1 0-2 .9-2 2v14c0 1.1.9 2 2 2h14c1.1 0 2-.9 2-2V5c0-1.1-.9-2-2-2zM9 17H7v-7h2v7zm4 0h-2V7h2v10zm4 0h-2v-4h2v4z\"/>\n",
              "    </g>\n",
              "</svg>\n",
              "  </button>\n",
              "\n",
              "<style>\n",
              "  .colab-df-quickchart {\n",
              "      --bg-color: #E8F0FE;\n",
              "      --fill-color: #1967D2;\n",
              "      --hover-bg-color: #E2EBFA;\n",
              "      --hover-fill-color: #174EA6;\n",
              "      --disabled-fill-color: #AAA;\n",
              "      --disabled-bg-color: #DDD;\n",
              "  }\n",
              "\n",
              "  [theme=dark] .colab-df-quickchart {\n",
              "      --bg-color: #3B4455;\n",
              "      --fill-color: #D2E3FC;\n",
              "      --hover-bg-color: #434B5C;\n",
              "      --hover-fill-color: #FFFFFF;\n",
              "      --disabled-bg-color: #3B4455;\n",
              "      --disabled-fill-color: #666;\n",
              "  }\n",
              "\n",
              "  .colab-df-quickchart {\n",
              "    background-color: var(--bg-color);\n",
              "    border: none;\n",
              "    border-radius: 50%;\n",
              "    cursor: pointer;\n",
              "    display: none;\n",
              "    fill: var(--fill-color);\n",
              "    height: 32px;\n",
              "    padding: 0;\n",
              "    width: 32px;\n",
              "  }\n",
              "\n",
              "  .colab-df-quickchart:hover {\n",
              "    background-color: var(--hover-bg-color);\n",
              "    box-shadow: 0 1px 2px rgba(60, 64, 67, 0.3), 0 1px 3px 1px rgba(60, 64, 67, 0.15);\n",
              "    fill: var(--button-hover-fill-color);\n",
              "  }\n",
              "\n",
              "  .colab-df-quickchart-complete:disabled,\n",
              "  .colab-df-quickchart-complete:disabled:hover {\n",
              "    background-color: var(--disabled-bg-color);\n",
              "    fill: var(--disabled-fill-color);\n",
              "    box-shadow: none;\n",
              "  }\n",
              "\n",
              "  .colab-df-spinner {\n",
              "    border: 2px solid var(--fill-color);\n",
              "    border-color: transparent;\n",
              "    border-bottom-color: var(--fill-color);\n",
              "    animation:\n",
              "      spin 1s steps(1) infinite;\n",
              "  }\n",
              "\n",
              "  @keyframes spin {\n",
              "    0% {\n",
              "      border-color: transparent;\n",
              "      border-bottom-color: var(--fill-color);\n",
              "      border-left-color: var(--fill-color);\n",
              "    }\n",
              "    20% {\n",
              "      border-color: transparent;\n",
              "      border-left-color: var(--fill-color);\n",
              "      border-top-color: var(--fill-color);\n",
              "    }\n",
              "    30% {\n",
              "      border-color: transparent;\n",
              "      border-left-color: var(--fill-color);\n",
              "      border-top-color: var(--fill-color);\n",
              "      border-right-color: var(--fill-color);\n",
              "    }\n",
              "    40% {\n",
              "      border-color: transparent;\n",
              "      border-right-color: var(--fill-color);\n",
              "      border-top-color: var(--fill-color);\n",
              "    }\n",
              "    60% {\n",
              "      border-color: transparent;\n",
              "      border-right-color: var(--fill-color);\n",
              "    }\n",
              "    80% {\n",
              "      border-color: transparent;\n",
              "      border-right-color: var(--fill-color);\n",
              "      border-bottom-color: var(--fill-color);\n",
              "    }\n",
              "    90% {\n",
              "      border-color: transparent;\n",
              "      border-bottom-color: var(--fill-color);\n",
              "    }\n",
              "  }\n",
              "</style>\n",
              "\n",
              "  <script>\n",
              "    async function quickchart(key) {\n",
              "      const quickchartButtonEl =\n",
              "        document.querySelector('#' + key + ' button');\n",
              "      quickchartButtonEl.disabled = true;  // To prevent multiple clicks.\n",
              "      quickchartButtonEl.classList.add('colab-df-spinner');\n",
              "      try {\n",
              "        const charts = await google.colab.kernel.invokeFunction(\n",
              "            'suggestCharts', [key], {});\n",
              "      } catch (error) {\n",
              "        console.error('Error during call to suggestCharts:', error);\n",
              "      }\n",
              "      quickchartButtonEl.classList.remove('colab-df-spinner');\n",
              "      quickchartButtonEl.classList.add('colab-df-quickchart-complete');\n",
              "    }\n",
              "    (() => {\n",
              "      let quickchartButtonEl =\n",
              "        document.querySelector('#df-2d227bbd-93be-4dec-afd4-cc5f743b1278 button');\n",
              "      quickchartButtonEl.style.display =\n",
              "        google.colab.kernel.accessAllowed ? 'block' : 'none';\n",
              "    })();\n",
              "  </script>\n",
              "</div>\n",
              "    </div>\n",
              "  </div>\n"
            ],
            "application/vnd.google.colaboratory.intrinsic+json": {
              "type": "dataframe"
            }
          },
          "metadata": {},
          "execution_count": 5
        }
      ],
      "source": [
        "diamonds[:5]"
      ]
    },
    {
      "cell_type": "markdown",
      "metadata": {
        "id": "gat7bnPQ6fCE"
      },
      "source": [
        "(0.5 балла) Найдите количество бриллиантов всего в данном датасете:"
      ]
    },
    {
      "cell_type": "code",
      "execution_count": 6,
      "metadata": {
        "colab": {
          "base_uri": "https://localhost:8080/"
        },
        "id": "-9x6z3-J7C-v",
        "outputId": "25da6005-589a-446c-e936-346ddbe8de8f"
      },
      "outputs": [
        {
          "output_type": "stream",
          "name": "stdout",
          "text": [
            "219703\n"
          ]
        }
      ],
      "source": [
        "print(len(diamonds))"
      ]
    },
    {
      "cell_type": "code",
      "source": [
        "print(diamonds.shape[0])"
      ],
      "metadata": {
        "colab": {
          "base_uri": "https://localhost:8080/"
        },
        "id": "jcy_HYcBbyjk",
        "outputId": "bad97780-7b2f-47eb-d76a-af2c1dc1fa1f"
      },
      "execution_count": 39,
      "outputs": [
        {
          "output_type": "stream",
          "name": "stdout",
          "text": [
            "219703\n"
          ]
        }
      ]
    },
    {
      "cell_type": "markdown",
      "metadata": {
        "id": "fYQuIdtL7DFp"
      },
      "source": [
        "(0.5 балла) Выведите максимальную и минимальную цену бриллианта в формате `номер - цена`:"
      ]
    },
    {
      "cell_type": "code",
      "execution_count": 7,
      "metadata": {
        "colab": {
          "base_uri": "https://localhost:8080/"
        },
        "id": "D_7sjzjP7SEj",
        "outputId": "37820fcd-814a-4e98-9e0a-1f99b85eb523"
      },
      "outputs": [
        {
          "output_type": "stream",
          "name": "stdout",
          "text": [
            "22 - 200\n",
            "219702 - 1449881\n"
          ]
        }
      ],
      "source": [
        "col = diamonds['total_sales_price']\n",
        "minc = min(col)\n",
        "maxc = max(col)\n",
        "mincx = -1\n",
        "maxcx = -1\n",
        "for i in range(len(diamonds)):\n",
        "  if diamonds['total_sales_price'][i] == minc:\n",
        "    mincx = i\n",
        "for i in range(len(diamonds)):\n",
        "  if diamonds['total_sales_price'][i] == maxc:\n",
        "    maxcx = i\n",
        "print(mincx, '-', minc)\n",
        "print(maxcx, '-', maxc)"
      ]
    },
    {
      "cell_type": "markdown",
      "metadata": {
        "id": "E2mf4IIO7SOg"
      },
      "source": [
        "(1 балл) Посчитайте количество пропусков (пропуском считается значение `unknown` или `None`):"
      ]
    },
    {
      "cell_type": "code",
      "execution_count": 8,
      "metadata": {
        "colab": {
          "base_uri": "https://localhost:8080/"
        },
        "id": "BuJZ0UoN7qAU",
        "outputId": "a054c429-9ef1-4d96-da61-11381fe3de59"
      },
      "outputs": [
        {
          "output_type": "stream",
          "name": "stdout",
          "text": [
            "1746027\n"
          ]
        }
      ],
      "source": [
        "gaps = 0\n",
        "for col in diamonds:\n",
        "  for item in diamonds[col]:\n",
        "    if item == 'None' or item == 'unknown':\n",
        "      gaps += 1\n",
        "print(gaps)"
      ]
    },
    {
      "cell_type": "markdown",
      "metadata": {
        "id": "d5LWUc_fh0vb"
      },
      "source": [
        "(1 балл) Найдите в каких столбцах присутствуют пропуски:"
      ]
    },
    {
      "cell_type": "code",
      "execution_count": 42,
      "metadata": {
        "colab": {
          "base_uri": "https://localhost:8080/"
        },
        "id": "IsU49Fouh5vy",
        "outputId": "f5a3fe4f-e7f6-425a-a87c-f94bd3c917a9"
      },
      "outputs": [
        {
          "output_type": "stream",
          "name": "stdout",
          "text": [
            "color\n",
            "cut_quality\n",
            "eye_clean\n",
            "culet_size\n",
            "culet_condition\n",
            "girdle_min\n",
            "girdle_max\n",
            "fluor_color\n",
            "fluor_intensity\n",
            "fancy_color_dominant_color\n",
            "fancy_color_secondary_color\n",
            "fancy_color_overtone\n",
            "fancy_color_intensity\n"
          ]
        }
      ],
      "source": [
        "for col in diamonds:\n",
        "  is_gap = False\n",
        "  for item in diamonds[col]:\n",
        "    if item == 'None' or item == 'unknown':\n",
        "      is_gap = True\n",
        "  if is_gap:\n",
        "    print(col)"
      ]
    },
    {
      "cell_type": "markdown",
      "metadata": {
        "id": "UznNZpJ47qGX"
      },
      "source": [
        "В нашем датасете присутствуют колонки, которые начинаются с `fancy_color_` или `fluor_`. Большинство значений в этих колонках - `unknown` или `None`, поэтому мы считаем их малоинформативными."
      ]
    },
    {
      "cell_type": "markdown",
      "metadata": {
        "id": "Rkk6Hr2Ui87X"
      },
      "source": [
        "Ваша задача:"
      ]
    },
    {
      "cell_type": "markdown",
      "metadata": {
        "id": "YYBDAgSSi-JU"
      },
      "source": [
        "1. (0.5 балла) найти количество таких колонок, которые начинаются с `fancy_color_` или `fluor_`:"
      ]
    },
    {
      "cell_type": "code",
      "execution_count": 10,
      "metadata": {
        "colab": {
          "base_uri": "https://localhost:8080/"
        },
        "id": "nbTUkk4T8-wO",
        "outputId": "c81c1f6d-68fb-4cfe-c512-ca4d30560e58"
      },
      "outputs": [
        {
          "output_type": "stream",
          "name": "stdout",
          "text": [
            "6\n"
          ]
        }
      ],
      "source": [
        "bad_cols = 0\n",
        "for col in diamonds:\n",
        "  if col[:12] == 'fancy_color_' or col[:6] == 'fluor_':\n",
        "    bad_cols += 1\n",
        "print(bad_cols)"
      ]
    },
    {
      "cell_type": "markdown",
      "metadata": {
        "id": "imop6nNujA6z"
      },
      "source": [
        "2. (0.5 балла) найти количество информативных (не `None` или `unknown`) значений в этих колонках:"
      ]
    },
    {
      "cell_type": "code",
      "execution_count": 11,
      "metadata": {
        "colab": {
          "base_uri": "https://localhost:8080/"
        },
        "id": "jtJcBwAVjPHU",
        "outputId": "49ae690f-c69a-478b-e0f3-b6f38ecda8f9"
      },
      "outputs": [
        {
          "output_type": "stream",
          "name": "stdout",
          "text": [
            "256727\n"
          ]
        }
      ],
      "source": [
        "inf_items = 0\n",
        "for col in diamonds:\n",
        "  if col[:12] == 'fancy_color_' or col[:6] == 'fluor_':\n",
        "    for item in diamonds[col]:\n",
        "      if item != 'None' and item != 'unknown':\n",
        "        inf_items += 1\n",
        "print(inf_items)"
      ]
    },
    {
      "cell_type": "markdown",
      "metadata": {
        "id": "wFbuTnkbjPeq"
      },
      "source": [
        "3. (0.5 балла) удалить данные колонки из датасета, сохранив изменения (в дальнейшем работаем измененным датасетом):"
      ]
    },
    {
      "cell_type": "markdown",
      "metadata": {
        "id": "PQG3QWUpfPjq"
      },
      "source": []
    },
    {
      "cell_type": "code",
      "execution_count": 12,
      "metadata": {
        "id": "qSZ5cmKWjutz"
      },
      "outputs": [],
      "source": [
        "for col in diamonds:\n",
        "  if col[:12] == 'fancy_color_' or col[:6] == 'fluor_':\n",
        "    del diamonds[col]"
      ]
    },
    {
      "cell_type": "markdown",
      "metadata": {
        "id": "JID3q4vr8-2h"
      },
      "source": [
        "(1 балл) Проделайте тоже самое для колонок, начинающихся с `culet_`:"
      ]
    },
    {
      "cell_type": "code",
      "execution_count": 13,
      "metadata": {
        "colab": {
          "base_uri": "https://localhost:8080/"
        },
        "id": "Wfsvzyad-T6P",
        "outputId": "4f28550b-71e7-4a00-b02f-b50ad493ace3"
      },
      "outputs": [
        {
          "output_type": "stream",
          "name": "stdout",
          "text": [
            "2\n",
            "149282\n"
          ]
        }
      ],
      "source": [
        "bad_cols = 0\n",
        "for col in diamonds:\n",
        "  if col[:6] == 'culet_':\n",
        "    bad_cols += 1\n",
        "print(bad_cols)\n",
        "inf_items = 0\n",
        "for col in diamonds:\n",
        "  if col[:6] == 'culet_':\n",
        "    for item in diamonds[col]:\n",
        "      if item != 'None' and item != 'unknown':\n",
        "        inf_items += 1\n",
        "print(inf_items)\n",
        "for col in diamonds:\n",
        "  if col[:6] == 'culet_':\n",
        "    del diamonds[col]"
      ]
    },
    {
      "cell_type": "markdown",
      "metadata": {
        "id": "7_qYv5Xm-UCz"
      },
      "source": [
        "(1 балл) Посчитайте сколько бы стоил (в тысячах долларов) сейф, в котором хранились бы все бриллианты из датасета:"
      ]
    },
    {
      "cell_type": "code",
      "execution_count": 43,
      "metadata": {
        "colab": {
          "base_uri": "https://localhost:8080/"
        },
        "id": "g2wVyz5U-cx7",
        "outputId": "c048c972-a43a-43c4-c1e0-c705446bf444"
      },
      "outputs": [
        {
          "output_type": "stream",
          "name": "stdout",
          "text": [
            "1517721.991\n"
          ]
        }
      ],
      "source": [
        "total_cost = 0\n",
        "for item in diamonds['total_sales_price']:\n",
        "  if item != 'None' and item != 'unknown':\n",
        "    total_cost += item\n",
        "print(total_cost/1000)"
      ]
    },
    {
      "cell_type": "markdown",
      "metadata": {
        "id": "GVwspHrUkRFv"
      },
      "source": [
        "Немного необоснованных манипуляций."
      ]
    },
    {
      "cell_type": "markdown",
      "metadata": {
        "id": "0j5Yr0mFxxfu"
      },
      "source": [
        "(1 балл) Выберите из датасета строки с четными индексами и выведете значения (не меняя нумерацию индексов):"
      ]
    },
    {
      "cell_type": "code",
      "execution_count": 15,
      "metadata": {
        "colab": {
          "base_uri": "https://localhost:8080/"
        },
        "id": "dW2GOROfx6yd",
        "outputId": "215da677-da46-403a-fec2-ae029908c89e"
      },
      "outputs": [
        {
          "output_type": "stream",
          "name": "stdout",
          "text": [
            "        Unnamed: 0    cut    color clarity  carat_weight cut_quality  lab  \\\n",
            "0                0  Round        E    VVS2          0.09   Excellent  IGI   \n",
            "2                2  Round        E    VVS2          0.09   Excellent  IGI   \n",
            "4                4  Round        E    VVS2          0.09   Very Good  IGI   \n",
            "6                6  Round        E    VVS2          0.09   Very Good  IGI   \n",
            "8                8  Round        E    VVS2          0.09   Very Good  IGI   \n",
            "...            ...    ...      ...     ...           ...         ...  ...   \n",
            "219694      219695  Round        D      IF         12.52   Excellent  HRD   \n",
            "219696      219697   Oval        H     VS2         18.88     unknown  GIA   \n",
            "219698      219699  Round        E     VS1         10.65   Excellent  GIA   \n",
            "219700      219701  Round        E     VS1         18.07   Excellent  GIA   \n",
            "219702      219703   Pear  unknown    VVS2         10.03     unknown  GIA   \n",
            "\n",
            "         symmetry     polish eye_clean  depth_percent  table_percent  \\\n",
            "0       Very Good  Very Good   unknown           62.7           59.0   \n",
            "2       Very Good  Very Good   unknown           61.1           59.0   \n",
            "4       Very Good  Excellent   unknown           64.9           58.5   \n",
            "6       Very Good  Very Good   unknown           64.0           57.0   \n",
            "8       Very Good  Very Good   unknown           63.5           59.5   \n",
            "...           ...        ...       ...            ...            ...   \n",
            "219694  Excellent  Excellent   unknown           62.1           58.0   \n",
            "219696  Excellent  Excellent   unknown           57.1           55.0   \n",
            "219698  Excellent  Excellent   unknown           61.3           58.0   \n",
            "219700  Excellent  Excellent   unknown           60.2           59.0   \n",
            "219702  Very Good  Excellent   unknown           66.7           65.0   \n",
            "\n",
            "        meas_length  meas_width  meas_depth girdle_min girdle_max  \\\n",
            "0              2.85        2.87        1.79          M          M   \n",
            "2              2.88        2.90        1.77         TN          M   \n",
            "4              2.79        2.83        1.82        STK        STK   \n",
            "6              2.85        2.88        1.84        STK        STK   \n",
            "8              2.89        2.92        1.85        STK         TK   \n",
            "...             ...         ...         ...        ...        ...   \n",
            "219694        14.84       14.91        9.24    unknown    unknown   \n",
            "219696        21.34       15.23        8.69         TN        STK   \n",
            "219698        14.06       14.18        8.66          M        STK   \n",
            "219700        17.06       17.10       10.20         TN          M   \n",
            "219702        15.61       11.09        7.39    unknown    unknown   \n",
            "\n",
            "        total_sales_price  \n",
            "0                     200  \n",
            "2                     200  \n",
            "4                     200  \n",
            "6                     200  \n",
            "8                     200  \n",
            "...                   ...  \n",
            "219694            1121792  \n",
            "219696            1132347  \n",
            "219698            1210692  \n",
            "219700            1315496  \n",
            "219702            1449881  \n",
            "\n",
            "[109852 rows x 18 columns]\n"
          ]
        }
      ],
      "source": [
        "print(diamonds[::2])"
      ]
    },
    {
      "cell_type": "markdown",
      "metadata": {
        "id": "mNXqS4oox7TF"
      },
      "source": [
        "(0.5 балла) А теперь с индексами, кратными 6:"
      ]
    },
    {
      "cell_type": "code",
      "execution_count": 16,
      "metadata": {
        "colab": {
          "base_uri": "https://localhost:8080/"
        },
        "id": "hy8LyzXix_SB",
        "outputId": "7b635ccc-b211-48fe-e624-feb7322432db"
      },
      "outputs": [
        {
          "output_type": "stream",
          "name": "stdout",
          "text": [
            "        Unnamed: 0      cut    color clarity  carat_weight cut_quality  lab  \\\n",
            "0                0    Round        E    VVS2          0.09   Excellent  IGI   \n",
            "6                6    Round        E    VVS2          0.09   Very Good  IGI   \n",
            "12              12    Round        E    VVS2          0.09   Very Good  IGI   \n",
            "18              18    Round        E    VVS2          0.09   Excellent  IGI   \n",
            "24              24    Round        L      I1          0.34   Excellent  IGI   \n",
            "...            ...      ...      ...     ...           ...         ...  ...   \n",
            "219678      219679    Round        G     VS1         10.23   Excellent  GIA   \n",
            "219684      219685  Radiant  unknown      I1          0.89     unknown  GIA   \n",
            "219690      219691    Round        D    VVS2         10.10   Excellent  GIA   \n",
            "219696      219697     Oval        H     VS2         18.88     unknown  GIA   \n",
            "219702      219703     Pear  unknown    VVS2         10.03     unknown  GIA   \n",
            "\n",
            "         symmetry     polish eye_clean  depth_percent  table_percent  \\\n",
            "0       Very Good  Very Good   unknown           62.7           59.0   \n",
            "6       Very Good  Very Good   unknown           64.0           57.0   \n",
            "12      Very Good  Very Good   unknown           61.8           58.5   \n",
            "18      Very Good  Very Good   unknown           61.0           60.0   \n",
            "24      Excellent  Excellent   unknown            0.0            0.0   \n",
            "...           ...        ...       ...            ...            ...   \n",
            "219678  Excellent  Excellent   unknown           62.7           55.0   \n",
            "219684       Good       Good   unknown           63.8           57.0   \n",
            "219690  Excellent  Excellent   unknown           59.4           59.0   \n",
            "219696  Excellent  Excellent   unknown           57.1           55.0   \n",
            "219702  Very Good  Excellent   unknown           66.7           65.0   \n",
            "\n",
            "        meas_length  meas_width  meas_depth girdle_min girdle_max  \\\n",
            "0              2.85        2.87        1.79          M          M   \n",
            "6              2.85        2.88        1.84        STK        STK   \n",
            "12             2.85        2.89        1.77        STK         TK   \n",
            "18             2.91        2.92        1.78          M          M   \n",
            "24             0.00        0.00        0.00    unknown    unknown   \n",
            "...             ...         ...         ...        ...        ...   \n",
            "219678        13.82       13.92        8.69         TN          M   \n",
            "219684         6.44        4.96        3.16         TK        VTK   \n",
            "219690        14.07       14.15        8.39          M        STK   \n",
            "219696        21.34       15.23        8.69         TN        STK   \n",
            "219702        15.61       11.09        7.39    unknown    unknown   \n",
            "\n",
            "        total_sales_price  \n",
            "0                     200  \n",
            "6                     200  \n",
            "12                    200  \n",
            "18                    200  \n",
            "24                    204  \n",
            "...                   ...  \n",
            "219678             859320  \n",
            "219684             982560  \n",
            "219690            1040739  \n",
            "219696            1132347  \n",
            "219702            1449881  \n",
            "\n",
            "[36618 rows x 18 columns]\n"
          ]
        }
      ],
      "source": [
        "print(diamonds[::6])"
      ]
    },
    {
      "cell_type": "markdown",
      "metadata": {
        "id": "u94LL979x_bV"
      },
      "source": [
        "(1 балл) Выберете из датасета только категорильные признаки и выведете датасет:"
      ]
    },
    {
      "cell_type": "code",
      "execution_count": 17,
      "metadata": {
        "colab": {
          "base_uri": "https://localhost:8080/"
        },
        "id": "2_LBNDWXyOOl",
        "outputId": "36f87313-1258-48cc-a895-5a1c659abd12"
      },
      "outputs": [
        {
          "output_type": "stream",
          "name": "stdout",
          "text": [
            "             cut    color cut_quality clarity  lab   symmetry     polish  \\\n",
            "0          Round        E   Excellent    VVS2  IGI  Very Good  Very Good   \n",
            "1          Round        E   Very Good    VVS2  IGI  Very Good  Very Good   \n",
            "2          Round        E   Excellent    VVS2  IGI  Very Good  Very Good   \n",
            "3          Round        E   Excellent    VVS2  IGI  Very Good  Very Good   \n",
            "4          Round        E   Very Good    VVS2  IGI  Very Good  Excellent   \n",
            "...          ...      ...         ...     ...  ...        ...        ...   \n",
            "219698     Round        E   Excellent     VS1  GIA  Excellent  Excellent   \n",
            "219699   Radiant  unknown     unknown     VS2  GIA  Very Good  Very Good   \n",
            "219700     Round        E   Excellent     VS1  GIA  Excellent  Excellent   \n",
            "219701  Princess  unknown     unknown     SI2  GIA       Good       Good   \n",
            "219702      Pear  unknown     unknown    VVS2  GIA  Very Good  Excellent   \n",
            "\n",
            "       eye_clean girdle_min girdle_max  \n",
            "0        unknown          M          M  \n",
            "1        unknown        STK        STK  \n",
            "2        unknown         TN          M  \n",
            "3        unknown          M        STK  \n",
            "4        unknown        STK        STK  \n",
            "...          ...        ...        ...  \n",
            "219698   unknown          M        STK  \n",
            "219699   unknown         TK        XTK  \n",
            "219700   unknown         TN          M  \n",
            "219701   unknown        XTN        VTK  \n",
            "219702   unknown    unknown    unknown  \n",
            "\n",
            "[219703 rows x 10 columns]\n"
          ]
        }
      ],
      "source": [
        "print(diamonds[['cut', 'color', 'cut_quality', 'clarity', 'lab', 'symmetry', 'polish', 'eye_clean', 'girdle_min', 'girdle_max']])"
      ]
    },
    {
      "cell_type": "markdown",
      "metadata": {
        "id": "QANg8ziJkHGM"
      },
      "source": [
        ">**Примечание**\n",
        ">\n",
        ">Данный датасет можно использовать для задания 3 (с использованием `sklearn`)"
      ]
    },
    {
      "cell_type": "markdown",
      "metadata": {
        "id": "mV9jLhspyOgz"
      },
      "source": [
        "(0.5 балла) Выберете столбец с данными о цене бриллиантов и домножите его на тот столбец, только транспонированный, и выведите полученную матрицу:"
      ]
    },
    {
      "cell_type": "code",
      "execution_count": 18,
      "metadata": {
        "colab": {
          "base_uri": "https://localhost:8080/"
        },
        "id": "LawjtnoIymFu",
        "outputId": "bb0fe544-241f-495d-d26c-7dbe9810eb27"
      },
      "outputs": [
        {
          "output_type": "stream",
          "name": "stdout",
          "text": [
            "[[158540672665477]]\n"
          ]
        }
      ],
      "source": [
        "col = diamonds['total_sales_price']\n",
        "print(np.array([col]).dot(np.array([col]).transpose()))"
      ]
    },
    {
      "cell_type": "markdown",
      "metadata": {
        "id": "Pz02uapbkbGk"
      },
      "source": [
        "### Построение графиков"
      ]
    },
    {
      "cell_type": "markdown",
      "metadata": {
        "id": "_zhww-rd-c5c"
      },
      "source": [
        "**Требования к графику:**\n",
        "\n",
        "1.   График должен быть подписан\n",
        "2.   Оси должны быть подписаны\n",
        "3.   Должна быть легенда графика\n",
        "4.   График должен быть информативным (желательно без сильных выбросов)\n",
        "\n",
        "**Все надписи на русском языке!**"
      ]
    },
    {
      "cell_type": "markdown",
      "metadata": {
        "id": "mfebCvk0k2mo"
      },
      "source": [
        ">**Примечание**\n",
        ">\n",
        ">График необходимо строить для очищенных данных - в них не должно быть пропусков по осям, по которым строите график. При этом **не перезатирайте** имеющийся датафрейм!"
      ]
    },
    {
      "cell_type": "markdown",
      "metadata": {
        "id": "4R9Rwxdq-l21"
      },
      "source": [
        "(2 балла) Постройте график `цвет бриллианта - стоимость`:"
      ]
    },
    {
      "cell_type": "code",
      "execution_count": 44,
      "metadata": {
        "colab": {
          "base_uri": "https://localhost:8080/",
          "height": 489
        },
        "id": "Fo6I0j5o-vQh",
        "outputId": "2ba01ecb-5582-4c5c-dfb7-a720c71351cf"
      },
      "outputs": [
        {
          "output_type": "execute_result",
          "data": {
            "text/plain": [
              "Text(0.5, 1.0, 'цвет бриллианта - стоимость')"
            ]
          },
          "metadata": {},
          "execution_count": 44
        },
        {
          "output_type": "display_data",
          "data": {
            "text/plain": [
              "<Figure size 640x480 with 1 Axes>"
            ],
            "image/png": "[encoded data removed]"
          },
          "metadata": {}
        }
      ],
      "source": [
        "plt.scatter([*diamonds['color']], [*diamonds['total_sales_price']], 0.4)\n",
        "plt.xlabel(\"цвет\")\n",
        "plt.ylabel(\"цена\")\n",
        "plt.title('цвет бриллианта - стоимость')"
      ]
    },
    {
      "cell_type": "markdown",
      "metadata": {
        "id": "W_UgFji5-vWx"
      },
      "source": [
        "(2 балла) Постройте график `лабараторная оценка - кол-во бриллиантов`:"
      ]
    },
    {
      "cell_type": "code",
      "execution_count": 45,
      "metadata": {
        "colab": {
          "base_uri": "https://localhost:8080/",
          "height": 489
        },
        "id": "nyT8-TRb_c24",
        "outputId": "557a4257-6464-45c5-bee6-4c453691a57d"
      },
      "outputs": [
        {
          "output_type": "execute_result",
          "data": {
            "text/plain": [
              "Text(0.5, 1.0, 'лабараторная оценка - кол-во бриллиантов')"
            ]
          },
          "metadata": {},
          "execution_count": 45
        },
        {
          "output_type": "display_data",
          "data": {
            "text/plain": [
              "<Figure size 640x480 with 1 Axes>"
            ],
            "image/png": "[encoded data removed]"
          },
          "metadata": {}
        }
      ],
      "source": [
        "labs = {*diamonds['lab']}\n",
        "goods = {}\n",
        "for i in labs:\n",
        "  goods[i] = 0\n",
        "  for item in diamonds['lab']:\n",
        "    if item == i:\n",
        "      goods[i] += 1\n",
        "plt.scatter(goods.keys(), goods.values())\n",
        "plt.xlabel(\"Оценка лабы\")\n",
        "plt.ylabel(\"Кол-во брилиантов\")\n",
        "plt.title('лабараторная оценка - кол-во бриллиантов')"
      ]
    },
    {
      "cell_type": "markdown",
      "metadata": {
        "id": "AgsMclnJ_c9H"
      },
      "source": [
        "(2 балла) Постройте график `вес бриллианта - стоимость`:"
      ]
    },
    {
      "cell_type": "code",
      "execution_count": 46,
      "metadata": {
        "colab": {
          "base_uri": "https://localhost:8080/",
          "height": 489
        },
        "id": "tn-x3pwmANQe",
        "outputId": "1fc4349d-444c-462a-dd55-e6e8ff8630f0"
      },
      "outputs": [
        {
          "output_type": "execute_result",
          "data": {
            "text/plain": [
              "Text(0.5, 1.0, 'вес бриллианта - стоимость')"
            ]
          },
          "metadata": {},
          "execution_count": 46
        },
        {
          "output_type": "display_data",
          "data": {
            "text/plain": [
              "<Figure size 640x480 with 1 Axes>"
            ],
            "image/png": "[encoded data removed]"
          },
          "metadata": {}
        }
      ],
      "source": [
        "plt.scatter([*diamonds['carat_weight']], [*diamonds['total_sales_price']], 0.4)\n",
        "plt.xlabel(\"Вес\")\n",
        "plt.ylabel(\"цена\")\n",
        "plt.title('вес бриллианта - стоимость')"
      ]
    },
    {
      "cell_type": "markdown",
      "metadata": {
        "id": "0LVC1KfEAwuw"
      },
      "source": [
        "(2 балла) Постройте график `система оценки GIA Cut - кол-во бриллиантов`:"
      ]
    },
    {
      "cell_type": "code",
      "execution_count": 47,
      "metadata": {
        "colab": {
          "base_uri": "https://localhost:8080/",
          "height": 489
        },
        "id": "IeuLooSIA232",
        "outputId": "d739bd32-a874-42ca-d65f-f720fa96f296"
      },
      "outputs": [
        {
          "output_type": "execute_result",
          "data": {
            "text/plain": [
              "Text(0.5, 1.0, 'система оценки GIA Cut - кол-во бриллиантов')"
            ]
          },
          "metadata": {},
          "execution_count": 47
        },
        {
          "output_type": "display_data",
          "data": {
            "text/plain": [
              "<Figure size 640x480 with 1 Axes>"
            ],
            "image/png": "[encoded data removed]"
          },
          "metadata": {}
        }
      ],
      "source": [
        "labs = {*diamonds['cut_quality']}\n",
        "goods = {}\n",
        "for i in labs:\n",
        "  goods[i] = 0\n",
        "  for item in diamonds['cut_quality']:\n",
        "    if item == i:\n",
        "      goods[i] += 1\n",
        "plt.scatter(goods.keys(), goods.values())\n",
        "plt.xlabel(\"Качество\")\n",
        "plt.ylabel(\"Колво бриллиантов\")\n",
        "plt.title('система оценки GIA Cut - кол-во бриллиантов')"
      ]
    },
    {
      "cell_type": "markdown",
      "metadata": {
        "id": "DRaaNLidFDhL"
      },
      "source": [
        "(2 балла) **Сделайте выводы по построенным графикам:**"
      ]
    },
    {
      "cell_type": "markdown",
      "metadata": {
        "id": "GSuWCfdGLtn0"
      },
      "source": [
        ">*Подсказка для маленьких: Что вы можете сказать о графиках полученных выше для данного датасета?*"
      ]
    },
    {
      "cell_type": "markdown",
      "metadata": {
        "id": "iNdjR_X9lSt1"
      },
      "source": [
        "Более тяжелые весят в среднем большем, но не сильно, значит это не решающий показатель. цвет не оказыает значительного влияния на цену. Очень много мусорных данных."
      ]
    },
    {
      "cell_type": "markdown",
      "metadata": {
        "id": "JKYRkX_rBxxu"
      },
      "source": [
        "## Задание 3. Модель - 30 баллов"
      ]
    },
    {
      "cell_type": "markdown",
      "metadata": {
        "id": "EJO9SwpII_uJ"
      },
      "source": [
        "В данном задании вам предстоит построить классифицирующую модель размер алмаза и его стоимости, а затем оценить полученную модель."
      ]
    },
    {
      "cell_type": "markdown",
      "metadata": {
        "id": "_8sA1qlRllrk"
      },
      "source": [
        ">**Примечание**\n",
        ">\n",
        ">Данная модель не претендует на самый верный индикатор стоимости алмаза, ведь мы не учитываем ничего больше чем стоимость алмаза. Исключительно для образовательных целей :)"
      ]
    },
    {
      "cell_type": "markdown",
      "metadata": {
        "id": "e78rVEGFJrVN"
      },
      "source": [
        "Для построения модели нам понадобится 4 столбца, а именно:\n",
        "- `meas_length`\n",
        "- `meas_width`\n",
        "- `meas_depth`\n",
        "- `total_sales_price`\n",
        "\n",
        "От остальных столбцов можно избавиться."
      ]
    },
    {
      "cell_type": "markdown",
      "metadata": {
        "id": "HhpeXcR1l-Ag"
      },
      "source": [
        "(1 балл) Создайте новый датасет и выведите его первые 10 строк:"
      ]
    },
    {
      "cell_type": "code",
      "execution_count": 23,
      "metadata": {
        "colab": {
          "base_uri": "https://localhost:8080/"
        },
        "id": "K87VXeCxKFrU",
        "outputId": "b2aa50da-2690-4361-a0d4-6bdd3b5409a1"
      },
      "outputs": [
        {
          "output_type": "stream",
          "name": "stdout",
          "text": [
            "   meas_length  meas_width  meas_depth  total_sales_price\n",
            "0         2.85        2.87        1.79                200\n",
            "1         2.84        2.89        1.78                200\n",
            "2         2.88        2.90        1.77                200\n",
            "3         2.86        2.88        1.78                200\n",
            "4         2.79        2.83        1.82                200\n",
            "5         2.95        2.99        1.81                200\n",
            "6         2.85        2.88        1.84                200\n",
            "7         2.86        2.89        1.78                200\n",
            "8         2.89        2.92        1.85                200\n",
            "9         2.83        2.87        1.80                200\n"
          ]
        }
      ],
      "source": [
        "diam = diamonds[['meas_length', 'meas_width', 'meas_depth', 'total_sales_price']]\n",
        "print(diam[:10])"
      ]
    },
    {
      "cell_type": "markdown",
      "metadata": {
        "id": "Uex8DVspKFxn"
      },
      "source": [
        "(1 балл) Перемешайте строки в датафрейме случайным образом:"
      ]
    },
    {
      "cell_type": "code",
      "execution_count": 30,
      "metadata": {
        "id": "5lRYIwGOKOnT"
      },
      "outputs": [],
      "source": [
        "diam = diam.sample(frac=1).reset_index(drop=True)"
      ]
    },
    {
      "cell_type": "markdown",
      "metadata": {
        "id": "iEHBNONDLl64"
      },
      "source": [
        "(1 балл) Сформируем новую колонку - для каждого бриллианта найдем сумму Минковского (p=3) по 3 измерениям бриллианта:"
      ]
    },
    {
      "cell_type": "code",
      "execution_count": 31,
      "metadata": {
        "colab": {
          "base_uri": "https://localhost:8080/",
          "height": 424
        },
        "id": "V3CTAQbAMQsR",
        "outputId": "6bb957f7-edd2-4ee9-a1af-719f8bdae3e7"
      },
      "outputs": [
        {
          "output_type": "execute_result",
          "data": {
            "text/plain": [
              "        meas_length  meas_width  meas_depth  total_sales_price       dist\n",
              "0              5.19        5.21        3.20               3152   6.796791\n",
              "1              5.66        5.69        3.56               3576   7.432940\n",
              "2              3.91        3.92        2.28                712   5.089908\n",
              "3              5.28        5.31        3.34               3816   6.939471\n",
              "4              5.47        3.93        2.46               1748   6.208008\n",
              "...             ...         ...         ...                ...        ...\n",
              "219698         3.66        3.68        2.21                648   4.786446\n",
              "219699         5.05        5.09        3.12               3174   6.626942\n",
              "219700         4.39        4.41        2.78               1018   5.767552\n",
              "219701         9.76        7.13        4.32              15231  11.113974\n",
              "219702         5.31        5.34        3.21               3218   6.945638\n",
              "\n",
              "[219703 rows x 5 columns]"
            ],
            "text/html": [
              "\n",
              "  <div id=\"df-4f9e9804-af8b-4065-b6e6-c462a46cc37c\" class=\"colab-df-container\">\n",
              "    <div>\n",
              "<style scoped>\n",
              "    .dataframe tbody tr th:only-of-type {\n",
              "        vertical-align: middle;\n",
              "    }\n",
              "\n",
              "    .dataframe tbody tr th {\n",
              "        vertical-align: top;\n",
              "    }\n",
              "\n",
              "    .dataframe thead th {\n",
              "        text-align: right;\n",
              "    }\n",
              "</style>\n",
              "<table border=\"1\" class=\"dataframe\">\n",
              "  <thead>\n",
              "    <tr style=\"text-align: right;\">\n",
              "      <th></th>\n",
              "      <th>meas_length</th>\n",
              "      <th>meas_width</th>\n",
              "      <th>meas_depth</th>\n",
              "      <th>total_sales_price</th>\n",
              "      <th>dist</th>\n",
              "    </tr>\n",
              "  </thead>\n",
              "  <tbody>\n",
              "    <tr>\n",
              "      <th>0</th>\n",
              "      <td>5.19</td>\n",
              "      <td>5.21</td>\n",
              "      <td>3.20</td>\n",
              "      <td>3152</td>\n",
              "      <td>6.796791</td>\n",
              "    </tr>\n",
              "    <tr>\n",
              "      <th>1</th>\n",
              "      <td>5.66</td>\n",
              "      <td>5.69</td>\n",
              "      <td>3.56</td>\n",
              "      <td>3576</td>\n",
              "      <td>7.432940</td>\n",
              "    </tr>\n",
              "    <tr>\n",
              "      <th>2</th>\n",
              "      <td>3.91</td>\n",
              "      <td>3.92</td>\n",
              "      <td>2.28</td>\n",
              "      <td>712</td>\n",
              "      <td>5.089908</td>\n",
              "    </tr>\n",
              "    <tr>\n",
              "      <th>3</th>\n",
              "      <td>5.28</td>\n",
              "      <td>5.31</td>\n",
              "      <td>3.34</td>\n",
              "      <td>3816</td>\n",
              "      <td>6.939471</td>\n",
              "    </tr>\n",
              "    <tr>\n",
              "      <th>4</th>\n",
              "      <td>5.47</td>\n",
              "      <td>3.93</td>\n",
              "      <td>2.46</td>\n",
              "      <td>1748</td>\n",
              "      <td>6.208008</td>\n",
              "    </tr>\n",
              "    <tr>\n",
              "      <th>...</th>\n",
              "      <td>...</td>\n",
              "      <td>...</td>\n",
              "      <td>...</td>\n",
              "      <td>...</td>\n",
              "      <td>...</td>\n",
              "    </tr>\n",
              "    <tr>\n",
              "      <th>219698</th>\n",
              "      <td>3.66</td>\n",
              "      <td>3.68</td>\n",
              "      <td>2.21</td>\n",
              "      <td>648</td>\n",
              "      <td>4.786446</td>\n",
              "    </tr>\n",
              "    <tr>\n",
              "      <th>219699</th>\n",
              "      <td>5.05</td>\n",
              "      <td>5.09</td>\n",
              "      <td>3.12</td>\n",
              "      <td>3174</td>\n",
              "      <td>6.626942</td>\n",
              "    </tr>\n",
              "    <tr>\n",
              "      <th>219700</th>\n",
              "      <td>4.39</td>\n",
              "      <td>4.41</td>\n",
              "      <td>2.78</td>\n",
              "      <td>1018</td>\n",
              "      <td>5.767552</td>\n",
              "    </tr>\n",
              "    <tr>\n",
              "      <th>219701</th>\n",
              "      <td>9.76</td>\n",
              "      <td>7.13</td>\n",
              "      <td>4.32</td>\n",
              "      <td>15231</td>\n",
              "      <td>11.113974</td>\n",
              "    </tr>\n",
              "    <tr>\n",
              "      <th>219702</th>\n",
              "      <td>5.31</td>\n",
              "      <td>5.34</td>\n",
              "      <td>3.21</td>\n",
              "      <td>3218</td>\n",
              "      <td>6.945638</td>\n",
              "    </tr>\n",
              "  </tbody>\n",
              "</table>\n",
              "<p>219703 rows × 5 columns</p>\n",
              "</div>\n",
              "    <div class=\"colab-df-buttons\">\n",
              "\n",
              "  <div class=\"colab-df-container\">\n",
              "    <button class=\"colab-df-convert\" onclick=\"convertToInteractive('df-4f9e9804-af8b-4065-b6e6-c462a46cc37c')\"\n",
              "            title=\"Convert this dataframe to an interactive table.\"\n",
              "            style=\"display:none;\">\n",
              "\n",
              "  <svg xmlns=\"http://www.w3.org/2000/svg\" height=\"24px\" viewBox=\"0 -960 960 960\">\n",
              "    <path d=\"M120-120v-720h720v720H120Zm60-500h600v-160H180v160Zm220 220h160v-160H400v160Zm0 220h160v-160H400v160ZM180-400h160v-160H180v160Zm440 0h160v-160H620v160ZM180-180h160v-160H180v160Zm440 0h160v-160H620v160Z\"/>\n",
              "  </svg>\n",
              "    </button>\n",
              "\n",
              "  <style>\n",
              "    .colab-df-container {\n",
              "      display:flex;\n",
              "      gap: 12px;\n",
              "    }\n",
              "\n",
              "    .colab-df-convert {\n",
              "      background-color: #E8F0FE;\n",
              "      border: none;\n",
              "      border-radius: 50%;\n",
              "      cursor: pointer;\n",
              "      display: none;\n",
              "      fill: #1967D2;\n",
              "      height: 32px;\n",
              "      padding: 0 0 0 0;\n",
              "      width: 32px;\n",
              "    }\n",
              "\n",
              "    .colab-df-convert:hover {\n",
              "      background-color: #E2EBFA;\n",
              "      box-shadow: 0px 1px 2px rgba(60, 64, 67, 0.3), 0px 1px 3px 1px rgba(60, 64, 67, 0.15);\n",
              "      fill: #174EA6;\n",
              "    }\n",
              "\n",
              "    .colab-df-buttons div {\n",
              "      margin-bottom: 4px;\n",
              "    }\n",
              "\n",
              "    [theme=dark] .colab-df-convert {\n",
              "      background-color: #3B4455;\n",
              "      fill: #D2E3FC;\n",
              "    }\n",
              "\n",
              "    [theme=dark] .colab-df-convert:hover {\n",
              "      background-color: #434B5C;\n",
              "      box-shadow: 0px 1px 3px 1px rgba(0, 0, 0, 0.15);\n",
              "      filter: drop-shadow(0px 1px 2px rgba(0, 0, 0, 0.3));\n",
              "      fill: #FFFFFF;\n",
              "    }\n",
              "  </style>\n",
              "\n",
              "    <script>\n",
              "      const buttonEl =\n",
              "        document.querySelector('#df-4f9e9804-af8b-4065-b6e6-c462a46cc37c button.colab-df-convert');\n",
              "      buttonEl.style.display =\n",
              "        google.colab.kernel.accessAllowed ? 'block' : 'none';\n",
              "\n",
              "      async function convertToInteractive(key) {\n",
              "        const element = document.querySelector('#df-4f9e9804-af8b-4065-b6e6-c462a46cc37c');\n",
              "        const dataTable =\n",
              "          await google.colab.kernel.invokeFunction('convertToInteractive',\n",
              "                                                    [key], {});\n",
              "        if (!dataTable) return;\n",
              "\n",
              "        const docLinkHtml = 'Like what you see? Visit the ' +\n",
              "          '<a target=\"_blank\" href=https://colab.research.google.com/notebooks/data_table.ipynb>data table notebook</a>'\n",
              "          + ' to learn more about interactive tables.';\n",
              "        element.innerHTML = '';\n",
              "        dataTable['output_type'] = 'display_data';\n",
              "        await google.colab.output.renderOutput(dataTable, element);\n",
              "        const docLink = document.createElement('div');\n",
              "        docLink.innerHTML = docLinkHtml;\n",
              "        element.appendChild(docLink);\n",
              "      }\n",
              "    </script>\n",
              "  </div>\n",
              "\n",
              "\n",
              "<div id=\"df-923f8609-136e-4d18-b452-fa1f81a2ed49\">\n",
              "  <button class=\"colab-df-quickchart\" onclick=\"quickchart('df-923f8609-136e-4d18-b452-fa1f81a2ed49')\"\n",
              "            title=\"Suggest charts\"\n",
              "            style=\"display:none;\">\n",
              "\n",
              "<svg xmlns=\"http://www.w3.org/2000/svg\" height=\"24px\"viewBox=\"0 0 24 24\"\n",
              "     width=\"24px\">\n",
              "    <g>\n",
              "        <path d=\"M19 3H5c-1.1 0-2 .9-2 2v14c0 1.1.9 2 2 2h14c1.1 0 2-.9 2-2V5c0-1.1-.9-2-2-2zM9 17H7v-7h2v7zm4 0h-2V7h2v10zm4 0h-2v-4h2v4z\"/>\n",
              "    </g>\n",
              "</svg>\n",
              "  </button>\n",
              "\n",
              "<style>\n",
              "  .colab-df-quickchart {\n",
              "      --bg-color: #E8F0FE;\n",
              "      --fill-color: #1967D2;\n",
              "      --hover-bg-color: #E2EBFA;\n",
              "      --hover-fill-color: #174EA6;\n",
              "      --disabled-fill-color: #AAA;\n",
              "      --disabled-bg-color: #DDD;\n",
              "  }\n",
              "\n",
              "  [theme=dark] .colab-df-quickchart {\n",
              "      --bg-color: #3B4455;\n",
              "      --fill-color: #D2E3FC;\n",
              "      --hover-bg-color: #434B5C;\n",
              "      --hover-fill-color: #FFFFFF;\n",
              "      --disabled-bg-color: #3B4455;\n",
              "      --disabled-fill-color: #666;\n",
              "  }\n",
              "\n",
              "  .colab-df-quickchart {\n",
              "    background-color: var(--bg-color);\n",
              "    border: none;\n",
              "    border-radius: 50%;\n",
              "    cursor: pointer;\n",
              "    display: none;\n",
              "    fill: var(--fill-color);\n",
              "    height: 32px;\n",
              "    padding: 0;\n",
              "    width: 32px;\n",
              "  }\n",
              "\n",
              "  .colab-df-quickchart:hover {\n",
              "    background-color: var(--hover-bg-color);\n",
              "    box-shadow: 0 1px 2px rgba(60, 64, 67, 0.3), 0 1px 3px 1px rgba(60, 64, 67, 0.15);\n",
              "    fill: var(--button-hover-fill-color);\n",
              "  }\n",
              "\n",
              "  .colab-df-quickchart-complete:disabled,\n",
              "  .colab-df-quickchart-complete:disabled:hover {\n",
              "    background-color: var(--disabled-bg-color);\n",
              "    fill: var(--disabled-fill-color);\n",
              "    box-shadow: none;\n",
              "  }\n",
              "\n",
              "  .colab-df-spinner {\n",
              "    border: 2px solid var(--fill-color);\n",
              "    border-color: transparent;\n",
              "    border-bottom-color: var(--fill-color);\n",
              "    animation:\n",
              "      spin 1s steps(1) infinite;\n",
              "  }\n",
              "\n",
              "  @keyframes spin {\n",
              "    0% {\n",
              "      border-color: transparent;\n",
              "      border-bottom-color: var(--fill-color);\n",
              "      border-left-color: var(--fill-color);\n",
              "    }\n",
              "    20% {\n",
              "      border-color: transparent;\n",
              "      border-left-color: var(--fill-color);\n",
              "      border-top-color: var(--fill-color);\n",
              "    }\n",
              "    30% {\n",
              "      border-color: transparent;\n",
              "      border-left-color: var(--fill-color);\n",
              "      border-top-color: var(--fill-color);\n",
              "      border-right-color: var(--fill-color);\n",
              "    }\n",
              "    40% {\n",
              "      border-color: transparent;\n",
              "      border-right-color: var(--fill-color);\n",
              "      border-top-color: var(--fill-color);\n",
              "    }\n",
              "    60% {\n",
              "      border-color: transparent;\n",
              "      border-right-color: var(--fill-color);\n",
              "    }\n",
              "    80% {\n",
              "      border-color: transparent;\n",
              "      border-right-color: var(--fill-color);\n",
              "      border-bottom-color: var(--fill-color);\n",
              "    }\n",
              "    90% {\n",
              "      border-color: transparent;\n",
              "      border-bottom-color: var(--fill-color);\n",
              "    }\n",
              "  }\n",
              "</style>\n",
              "\n",
              "  <script>\n",
              "    async function quickchart(key) {\n",
              "      const quickchartButtonEl =\n",
              "        document.querySelector('#' + key + ' button');\n",
              "      quickchartButtonEl.disabled = true;  // To prevent multiple clicks.\n",
              "      quickchartButtonEl.classList.add('colab-df-spinner');\n",
              "      try {\n",
              "        const charts = await google.colab.kernel.invokeFunction(\n",
              "            'suggestCharts', [key], {});\n",
              "      } catch (error) {\n",
              "        console.error('Error during call to suggestCharts:', error);\n",
              "      }\n",
              "      quickchartButtonEl.classList.remove('colab-df-spinner');\n",
              "      quickchartButtonEl.classList.add('colab-df-quickchart-complete');\n",
              "    }\n",
              "    (() => {\n",
              "      let quickchartButtonEl =\n",
              "        document.querySelector('#df-923f8609-136e-4d18-b452-fa1f81a2ed49 button');\n",
              "      quickchartButtonEl.style.display =\n",
              "        google.colab.kernel.accessAllowed ? 'block' : 'none';\n",
              "    })();\n",
              "  </script>\n",
              "</div>\n",
              "    </div>\n",
              "  </div>\n"
            ],
            "application/vnd.google.colaboratory.intrinsic+json": {
              "type": "dataframe",
              "variable_name": "diam"
            }
          },
          "metadata": {},
          "execution_count": 31
        }
      ],
      "source": [
        "diam['dist'] = [(diam['meas_length'][i] ** 3 + diam['meas_width'][i] ** 3 + diam['meas_depth'][i] ** 3) ** (1 / 3) for i in range(len(diam))]\n",
        "diam"
      ]
    },
    {
      "cell_type": "markdown",
      "metadata": {
        "id": "z5s5_yB8n1Hp"
      },
      "source": [
        "(1 балл) Сформируем новый датасет из двух колонок - сумма Минковского и `total_sales_price`:"
      ]
    },
    {
      "cell_type": "code",
      "execution_count": 32,
      "metadata": {
        "id": "tXxZnWS7n9q0"
      },
      "outputs": [],
      "source": [
        "nd = diam[['dist', 'total_sales_price']]"
      ]
    },
    {
      "cell_type": "markdown",
      "metadata": {
        "id": "aXCp0GmUKOvM"
      },
      "source": [
        "(1 балл) Разделите вашу выборку на две части в соотношении 8:2 - одна выборка будет для тренировка, а другая для тестов вашей модели:"
      ]
    },
    {
      "cell_type": "code",
      "execution_count": 33,
      "metadata": {
        "id": "rxwHhdnFK3Lz"
      },
      "outputs": [],
      "source": [
        "train = nd.truncate(after=int(.8*len(nd)))\n",
        "test = nd.truncate(before=int(.8*len(nd))+1)\n",
        "#print(len(nd), len(test), len(train), len(nd) - len(test) - len(train))"
      ]
    },
    {
      "cell_type": "markdown",
      "metadata": {
        "id": "lhuRoIMRK3S3"
      },
      "source": [
        "(2 балла) Постройте график зависимости стоимости от вашего нового параметра размера для тренинг-выборки:"
      ]
    },
    {
      "cell_type": "code",
      "execution_count": 34,
      "metadata": {
        "colab": {
          "base_uri": "https://localhost:8080/",
          "height": 462
        },
        "id": "zdXv0wimNNZq",
        "outputId": "7f68ee41-7adb-4b96-96af-aa7409997728"
      },
      "outputs": [
        {
          "output_type": "execute_result",
          "data": {
            "text/plain": [
              "<matplotlib.collections.PathCollection at 0x7d61361a5150>"
            ]
          },
          "metadata": {},
          "execution_count": 34
        },
        {
          "output_type": "display_data",
          "data": {
            "text/plain": [
              "<Figure size 640x480 with 1 Axes>"
            ],
            "image/png": "[encoded data removed]"
          },
          "metadata": {}
        }
      ],
      "source": [
        "plt.scatter(train['dist'], train['total_sales_price'], s=10, alpha=0.5)"
      ]
    },
    {
      "cell_type": "markdown",
      "metadata": {
        "id": "0cUx_FSiNOUx"
      },
      "source": [
        "(2 балла) Нанесите на тот же график тестовую выборку, используя другой цвет (не забудьте про параметр прозрачности):"
      ]
    },
    {
      "cell_type": "code",
      "execution_count": 35,
      "metadata": {
        "colab": {
          "base_uri": "https://localhost:8080/",
          "height": 260
        },
        "id": "R09w4W7VNnM2",
        "outputId": "b346075d-1f0d-466b-bbcd-2bff76ec1011"
      },
      "outputs": [
        {
          "output_type": "execute_result",
          "data": {
            "text/plain": [
              "<matplotlib.collections.PathCollection at 0x7d6136b3f5b0>"
            ]
          },
          "metadata": {},
          "execution_count": 35
        },
        {
          "output_type": "display_data",
          "data": {
            "text/plain": [
              "<Figure size 640x480 with 1 Axes>"
            ],
            "image/png": "[encoded data removed]"
          },
          "metadata": {}
        }
      ],
      "source": [
        "plt.subplot(2, 2, 1)\n",
        "plt.scatter(train['dist'], train['total_sales_price'], c='green', s=10, alpha=0.3)\n",
        "plt.subplot(2, 2, 1)\n",
        "plt.scatter(test['dist'], test['total_sales_price'], c='purple', s=10, alpha=0.3)"
      ]
    },
    {
      "cell_type": "markdown",
      "metadata": {
        "id": "VwIIccnpNnVj"
      },
      "source": [
        "(3 балла) Найдите для каждой бриллианта из тестовой выборки его \"ближайшего соседа\" из тренинг-выборки. Для каждого бриллианта из тестовой выборки найдите расстояния до соответствующего ближайшего соседа:"
      ]
    },
    {
      "cell_type": "code",
      "execution_count": null,
      "metadata": {
        "colab": {
          "base_uri": "https://localhost:8080/",
          "height": 332
        },
        "id": "t_jpKJ54OBb0",
        "outputId": "bd846f2d-dad8-40e6-a0f2-564c1c04aa38"
      },
      "outputs": [
        {
          "ename": "KeyboardInterrupt",
          "evalue": "",
          "output_type": "error",
          "traceback": [
            "\u001b[0;31m---------------------------------------------------------------------------\u001b[0m",
            "\u001b[0;31mKeyboardInterrupt\u001b[0m                         Traceback (most recent call last)",
            "\u001b[0;32m<ipython-input-67-c22bdaf84511>\u001b[0m in \u001b[0;36m<cell line: 4>\u001b[0;34m()\u001b[0m\n\u001b[1;32m      4\u001b[0m \u001b[0;32mfor\u001b[0m \u001b[0mi\u001b[0m \u001b[0;32min\u001b[0m \u001b[0mrange\u001b[0m\u001b[0;34m(\u001b[0m\u001b[0mlen\u001b[0m\u001b[0;34m(\u001b[0m\u001b[0mtest\u001b[0m\u001b[0;34m)\u001b[0m\u001b[0;34m)\u001b[0m\u001b[0;34m:\u001b[0m\u001b[0;34m\u001b[0m\u001b[0;34m\u001b[0m\u001b[0m\n\u001b[1;32m      5\u001b[0m   \u001b[0;32mfor\u001b[0m \u001b[0mj\u001b[0m \u001b[0;32min\u001b[0m \u001b[0mrange\u001b[0m\u001b[0;34m(\u001b[0m\u001b[0mlen\u001b[0m\u001b[0;34m(\u001b[0m\u001b[0mtrain\u001b[0m\u001b[0;34m)\u001b[0m\u001b[0;34m)\u001b[0m\u001b[0;34m:\u001b[0m\u001b[0;34m\u001b[0m\u001b[0;34m\u001b[0m\u001b[0m\n\u001b[0;32m----> 6\u001b[0;31m     \u001b[0mk\u001b[0m \u001b[0;34m=\u001b[0m \u001b[0;34m(\u001b[0m\u001b[0mabs\u001b[0m\u001b[0;34m(\u001b[0m\u001b[0mdiam\u001b[0m\u001b[0;34m[\u001b[0m\u001b[0;34m'meas_length'\u001b[0m\u001b[0;34m]\u001b[0m\u001b[0;34m[\u001b[0m\u001b[0mj\u001b[0m\u001b[0;34m]\u001b[0m \u001b[0;34m-\u001b[0m \u001b[0mdiam\u001b[0m\u001b[0;34m[\u001b[0m\u001b[0;34m'meas_length'\u001b[0m\u001b[0;34m]\u001b[0m\u001b[0;34m[\u001b[0m\u001b[0mi\u001b[0m \u001b[0;34m+\u001b[0m \u001b[0ml\u001b[0m\u001b[0;34m]\u001b[0m\u001b[0;34m)\u001b[0m \u001b[0;34m**\u001b[0m \u001b[0;36m3\u001b[0m \u001b[0;34m+\u001b[0m \u001b[0mabs\u001b[0m\u001b[0;34m(\u001b[0m\u001b[0mdiam\u001b[0m\u001b[0;34m[\u001b[0m\u001b[0;34m'meas_width'\u001b[0m\u001b[0;34m]\u001b[0m\u001b[0;34m[\u001b[0m\u001b[0mj\u001b[0m\u001b[0;34m]\u001b[0m \u001b[0;34m-\u001b[0m \u001b[0mdiam\u001b[0m\u001b[0;34m[\u001b[0m\u001b[0;34m'meas_width'\u001b[0m\u001b[0;34m]\u001b[0m\u001b[0;34m[\u001b[0m\u001b[0mi\u001b[0m \u001b[0;34m+\u001b[0m \u001b[0ml\u001b[0m\u001b[0;34m]\u001b[0m\u001b[0;34m)\u001b[0m \u001b[0;34m**\u001b[0m \u001b[0;36m3\u001b[0m \u001b[0;34m+\u001b[0m \u001b[0mabs\u001b[0m\u001b[0;34m(\u001b[0m\u001b[0mdiam\u001b[0m\u001b[0;34m[\u001b[0m\u001b[0;34m'meas_depth'\u001b[0m\u001b[0;34m]\u001b[0m\u001b[0;34m[\u001b[0m\u001b[0mj\u001b[0m\u001b[0;34m]\u001b[0m \u001b[0;34m-\u001b[0m \u001b[0mdiam\u001b[0m\u001b[0;34m[\u001b[0m\u001b[0;34m'meas_depth'\u001b[0m\u001b[0;34m]\u001b[0m\u001b[0;34m[\u001b[0m\u001b[0mi\u001b[0m \u001b[0;34m+\u001b[0m \u001b[0ml\u001b[0m\u001b[0;34m]\u001b[0m\u001b[0;34m)\u001b[0m \u001b[0;34m**\u001b[0m \u001b[0;36m3\u001b[0m\u001b[0;34m)\u001b[0m \u001b[0;34m**\u001b[0m \u001b[0;34m(\u001b[0m\u001b[0;36m1\u001b[0m \u001b[0;34m/\u001b[0m \u001b[0;36m3\u001b[0m\u001b[0;34m)\u001b[0m\u001b[0;34m\u001b[0m\u001b[0;34m\u001b[0m\u001b[0m\n\u001b[0m\u001b[1;32m      7\u001b[0m     \u001b[0;32mif\u001b[0m \u001b[0mk\u001b[0m \u001b[0;34m<\u001b[0m \u001b[0mdist\u001b[0m\u001b[0;34m[\u001b[0m\u001b[0mi\u001b[0m\u001b[0;34m]\u001b[0m\u001b[0;34m:\u001b[0m\u001b[0;34m\u001b[0m\u001b[0;34m\u001b[0m\u001b[0m\n\u001b[1;32m      8\u001b[0m       \u001b[0mdist\u001b[0m\u001b[0;34m[\u001b[0m\u001b[0mi\u001b[0m\u001b[0;34m]\u001b[0m\u001b[0;34m=\u001b[0m \u001b[0mk\u001b[0m\u001b[0;34m;\u001b[0m\u001b[0;34m\u001b[0m\u001b[0;34m\u001b[0m\u001b[0m\n",
            "\u001b[0;32m/usr/local/lib/python3.10/dist-packages/pandas/core/series.py\u001b[0m in \u001b[0;36m__getitem__\u001b[0;34m(self, key)\u001b[0m\n\u001b[1;32m    990\u001b[0m         \u001b[0;32mreturn\u001b[0m \u001b[0mself\u001b[0m\u001b[0;34m.\u001b[0m\u001b[0m_get_values\u001b[0m\u001b[0;34m(\u001b[0m\u001b[0mslobj\u001b[0m\u001b[0;34m)\u001b[0m\u001b[0;34m\u001b[0m\u001b[0;34m\u001b[0m\u001b[0m\n\u001b[1;32m    991\u001b[0m \u001b[0;34m\u001b[0m\u001b[0m\n\u001b[0;32m--> 992\u001b[0;31m     \u001b[0;32mdef\u001b[0m \u001b[0m__getitem__\u001b[0m\u001b[0;34m(\u001b[0m\u001b[0mself\u001b[0m\u001b[0;34m,\u001b[0m \u001b[0mkey\u001b[0m\u001b[0;34m)\u001b[0m\u001b[0;34m:\u001b[0m\u001b[0;34m\u001b[0m\u001b[0;34m\u001b[0m\u001b[0m\n\u001b[0m\u001b[1;32m    993\u001b[0m         \u001b[0mcheck_dict_or_set_indexers\u001b[0m\u001b[0;34m(\u001b[0m\u001b[0mkey\u001b[0m\u001b[0;34m)\u001b[0m\u001b[0;34m\u001b[0m\u001b[0;34m\u001b[0m\u001b[0m\n\u001b[1;32m    994\u001b[0m         \u001b[0mkey\u001b[0m \u001b[0;34m=\u001b[0m \u001b[0mcom\u001b[0m\u001b[0;34m.\u001b[0m\u001b[0mapply_if_callable\u001b[0m\u001b[0;34m(\u001b[0m\u001b[0mkey\u001b[0m\u001b[0;34m,\u001b[0m \u001b[0mself\u001b[0m\u001b[0;34m)\u001b[0m\u001b[0;34m\u001b[0m\u001b[0;34m\u001b[0m\u001b[0m\n",
            "\u001b[0;31mKeyboardInterrupt\u001b[0m: "
          ]
        }
      ],
      "source": [
        "nebour = [0 for i in range(len(test))]\n",
        "dist = [1e100 for i in range(len(test))]\n",
        "l = int(.8*len(nd))\n",
        "for i in range(len(test)):\n",
        "  for j in range(len(train)):\n",
        "    k = (abs(diam['meas_length'][j] - diam['meas_length'][i + l]) ** 3 + abs(diam['meas_width'][j] - diam['meas_width'][i + l]) ** 3 + abs(diam['meas_depth'][j] - diam['meas_depth'][i + l]) ** 3) ** (1 / 3)\n",
        "    if k < dist[i]:\n",
        "      dist[i]= k;\n",
        "      nebour = j\n",
        "\n"
      ]
    },
    {
      "cell_type": "markdown",
      "metadata": {
        "id": "7R0uaHqurV_u"
      },
      "source": [
        "(3 балла) Найдите насколько сильно (в процентах) отличается цена бриллиантов из тестовой выборки от их соответствующих ближайших соседей:"
      ]
    },
    {
      "cell_type": "code",
      "execution_count": null,
      "metadata": {
        "id": "Uy2ngWJ4rn-4"
      },
      "outputs": [],
      "source": [
        "# your code here"
      ]
    },
    {
      "cell_type": "markdown",
      "metadata": {
        "id": "tl0CHY6_OAxU"
      },
      "source": [
        "**Данная модель является выдумкой автора. Не важен коэффициент ошибки, важны ваши шаги для получения коэффициента.**"
      ]
    },
    {
      "cell_type": "markdown",
      "metadata": {
        "id": "AbrAdKSUrqz5"
      },
      "source": [
        "### Введение в машинное обучение"
      ]
    },
    {
      "cell_type": "markdown",
      "metadata": {
        "id": "I6sqXZLYuox4"
      },
      "source": [
        "Теперь давайте познакомимся с таким сильным инструментом как `sklearn`."
      ]
    },
    {
      "cell_type": "markdown",
      "metadata": {
        "id": "q4OpdbhwsuAX"
      },
      "source": [
        "Вам необходимо:\n",
        "1. выбрать 2 категориальных признака\n",
        "2. на их основе обучить решающее дерево\n",
        "3. оценить среднеквадратичную ошибку цены бриллианта\n",
        "4. сделать пп. 1-3 и выбрать ту пару, которая дает лучший результат\n",
        "5. сделать выводы"
      ]
    },
    {
      "cell_type": "markdown",
      "metadata": {
        "id": "rScraaVSxQlT"
      },
      "source": [
        "(3 балла) Мы работаем с категориальными признаками, для них не понятно что есть \"больше\" и \"меньше\". Поэтому нам нужно предварительно закодировать значения наших признаков, с чем нам поможет [OneHotEncoder](https://scikit-learn.org/stable/modules/generated/sklearn.preprocessing.OneHotEncoder.html):"
      ]
    },
    {
      "cell_type": "code",
      "execution_count": null,
      "metadata": {
        "id": "G8hDstLlxjry"
      },
      "outputs": [],
      "source": [
        "# your code here"
      ]
    },
    {
      "cell_type": "markdown",
      "metadata": {
        "id": "ig8t-nmRvojA"
      },
      "source": [
        "(3 балла) Разбейте датасет на обучающую и тестовую выбору. Для этого вам поможет [train_test_split](https://scikit-learn.org/stable/modules/generated/sklearn.model_selection.train_test_split.html):"
      ]
    },
    {
      "cell_type": "code",
      "execution_count": null,
      "metadata": {
        "id": "ChVKP43AwY8i"
      },
      "outputs": [],
      "source": [
        "# your code here"
      ]
    },
    {
      "cell_type": "markdown",
      "metadata": {
        "id": "gbv2zLpkwZsq"
      },
      "source": [
        "(3 балла) Затем создайте и обучите вашу модель - [DecisionTreeRegressor](https://scikit-learn.org/stable/modules/generated/sklearn.tree.DecisionTreeRegressor.html):"
      ]
    },
    {
      "cell_type": "code",
      "execution_count": null,
      "metadata": {
        "id": "Qfvv2j6Sws8p"
      },
      "outputs": [],
      "source": [
        "# your code here"
      ]
    },
    {
      "cell_type": "markdown",
      "metadata": {
        "id": "nUvBoY1pwtIv"
      },
      "source": [
        "(3 балла) Оцените ошибку вашей модели при помощи [mean_squared_error](https://scikit-learn.org/stable/modules/generated/sklearn.metrics.mean_squared_error.html):"
      ]
    },
    {
      "cell_type": "code",
      "execution_count": null,
      "metadata": {
        "id": "q946oHPaxGA4"
      },
      "outputs": [],
      "source": [
        "# your code here"
      ]
    },
    {
      "cell_type": "markdown",
      "metadata": {
        "id": "scWwHLEKxGPl"
      },
      "source": [
        "(3 балла) **Сделайте выводы какие категориальные признаки лучше:**"
      ]
    },
    {
      "cell_type": "markdown",
      "metadata": {
        "id": "djE6Ke2bL5WS"
      },
      "source": [
        "*Подсказки для маленьких: Что вы можете сказать о зависимости по вашей выборке признаков? Какой вы можете сделать вывод об готовых инструментах для работы и написанных Вами?*"
      ]
    },
    {
      "cell_type": "markdown",
      "metadata": {
        "id": "lu36_N58uvui"
      },
      "source": [
        "Ваши выводы здесь :)"
      ]
    }
  ],
  "metadata": {
    "colab": {
      "provenance": [],
      "include_colab_link": true
    },
    "kernelspec": {
      "display_name": "Python 3",
      "name": "python3"
    },
    "language_info": {
      "name": "python"
    }
  },
  "nbformat": 4,
  "nbformat_minor": 0
}